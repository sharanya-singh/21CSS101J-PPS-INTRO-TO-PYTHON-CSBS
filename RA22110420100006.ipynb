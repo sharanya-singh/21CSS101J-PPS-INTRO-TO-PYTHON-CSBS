{
  "nbformat": 4,
  "nbformat_minor": 0,
  "metadata": {
    "colab": {
      "provenance": [],
      "authorship_tag": "ABX9TyOOpQ4ykN1ZWvYtbbbMmmx0",
      "include_colab_link": true
    },
    "kernelspec": {
      "name": "python3",
      "display_name": "Python 3"
    },
    "language_info": {
      "name": "python"
    }
  },
  "cells": [
    {
      "cell_type": "markdown",
      "metadata": {
        "id": "view-in-github",
        "colab_type": "text"
      },
      "source": [
        "<a href=\"https://colab.research.google.com/github/sharanya-singh/21CSS101J-PPS-INTRO-TO-PYTHON-CSBS/blob/day-1/RA22110420100006.ipynb\" target=\"_parent\"><img src=\"https://colab.research.google.com/assets/colab-badge.svg\" alt=\"Open In Colab\"/></a>"
      ]
    },
    {
      "cell_type": "code",
      "execution_count": null,
      "metadata": {
        "id": "AeRNIiYNGutD"
      },
      "outputs": [],
      "source": []
    },
    {
      "cell_type": "markdown",
      "source": [
        "Basic "
      ],
      "metadata": {
        "id": "jPMWBB78Nh7Y"
      }
    },
    {
      "cell_type": "code",
      "source": [
        "print (\"Hello World\")\n",
        "print(\"3+2\")\n",
        "3+2\n"
      ],
      "metadata": {
        "colab": {
          "base_uri": "https://localhost:8080/"
        },
        "id": "U5pg2plBIfVR",
        "outputId": "6c0ff170-f6a4-43c8-e89e-00bd486bd2d9"
      },
      "execution_count": 1,
      "outputs": [
        {
          "output_type": "stream",
          "name": "stdout",
          "text": [
            "Hello World\n",
            "3+2\n"
          ]
        },
        {
          "output_type": "execute_result",
          "data": {
            "text/plain": [
              "5"
            ]
          },
          "metadata": {},
          "execution_count": 1
        }
      ]
    },
    {
      "cell_type": "markdown",
      "source": [
        "square root of a number "
      ],
      "metadata": {
        "id": "UtVcbB2DNcDd"
      }
    },
    {
      "cell_type": "code",
      "source": [
        "num= 19\n",
        "num_sqrt= num**0.5\n",
        "print(\"The sqrt of 19 is\", num_sqrt)"
      ],
      "metadata": {
        "colab": {
          "base_uri": "https://localhost:8080/"
        },
        "id": "vr3mMZyJJqWs",
        "outputId": "cc620c71-816c-4777-f2b9-e421f72f3479"
      },
      "execution_count": 3,
      "outputs": [
        {
          "output_type": "stream",
          "name": "stdout",
          "text": [
            "The sqrt of 19 is 4.358898943540674\n"
          ]
        }
      ]
    },
    {
      "cell_type": "markdown",
      "source": [
        "Area of a *circle*"
      ],
      "metadata": {
        "id": "ancB4zQKNvV4"
      }
    },
    {
      "cell_type": "code",
      "source": [
        "radius = 18;\n",
        "pi = 3.14;\n",
        "\n",
        "area_circle= pi * radius * radius;\n",
        "\n",
        "print(\"area of circle given is\",area_circle)\n"
      ],
      "metadata": {
        "colab": {
          "base_uri": "https://localhost:8080/"
        },
        "id": "0SzP1dPPNpOT",
        "outputId": "aa230d7e-5e7e-49a8-a1fa-979ebe880928"
      },
      "execution_count": 5,
      "outputs": [
        {
          "output_type": "stream",
          "name": "stdout",
          "text": [
            "area of circle given is 1017.36\n"
          ]
        }
      ]
    },
    {
      "cell_type": "markdown",
      "source": [
        "Circumference of Circle "
      ],
      "metadata": {
        "id": "MPoJi7HYOWyj"
      }
    },
    {
      "cell_type": "code",
      "source": [
        "radius= 23;\n",
        "pi= 3.14;\n",
        "\n",
        "circum_circle= 2 * pi * radius;\n",
        "\n",
        "print(\"Circumference of circle is\", circum_circle );\n"
      ],
      "metadata": {
        "colab": {
          "base_uri": "https://localhost:8080/"
        },
        "id": "aRs2LWEVOrfN",
        "outputId": "4c44efa0-f99b-4e3d-ca9c-4bfb5c1931ae"
      },
      "execution_count": 6,
      "outputs": [
        {
          "output_type": "stream",
          "name": "stdout",
          "text": [
            "Circumference of circle is 144.44\n"
          ]
        }
      ]
    },
    {
      "cell_type": "markdown",
      "source": [
        "Perimeter of triangle"
      ],
      "metadata": {
        "id": "7CCfNrytPFXd"
      }
    },
    {
      "cell_type": "code",
      "source": [
        "a = 32;\n",
        "b = 45;\n",
        "c = 12;\n",
        "\n",
        "perimter= a+b+c;\n",
        "\n",
        "print(\"Perimeter is\", perimter)"
      ],
      "metadata": {
        "colab": {
          "base_uri": "https://localhost:8080/"
        },
        "id": "UJrRtfRhPIuy",
        "outputId": "243a006d-88dc-49d0-967f-3840b70d9c7a"
      },
      "execution_count": 7,
      "outputs": [
        {
          "output_type": "stream",
          "name": "stdout",
          "text": [
            "Perimeter is 89\n"
          ]
        }
      ]
    },
    {
      "cell_type": "markdown",
      "source": [
        "Perimeter rectangle"
      ],
      "metadata": {
        "id": "D-UQGW3OP1iS"
      }
    },
    {
      "cell_type": "code",
      "source": [
        "l = 12\n",
        "b = 34\n",
        "\n",
        "peri= 2*(l+b)\n",
        "\n",
        "print (\"Perimeter of rectangle\", peri)"
      ],
      "metadata": {
        "colab": {
          "base_uri": "https://localhost:8080/"
        },
        "id": "_JqxtNDcP0yD",
        "outputId": "24c122b5-eac3-4bb4-fe81-eed7bf47f164"
      },
      "execution_count": 8,
      "outputs": [
        {
          "output_type": "stream",
          "name": "stdout",
          "text": [
            "Perimeter of rectangle 92\n"
          ]
        }
      ]
    },
    {
      "cell_type": "markdown",
      "source": [
        "MY ***BESTFRIENDS***"
      ],
      "metadata": {
        "id": "2gCpBODLQX52"
      }
    },
    {
      "cell_type": "code",
      "source": [
        "Bestie1= 'Ritika'\n",
        "Bestie2= 'Kavya'\n",
        "\n",
        "print(\"BEST MATES IN CLASS\",Bestie1,Bestie2)"
      ],
      "metadata": {
        "colab": {
          "base_uri": "https://localhost:8080/"
        },
        "id": "330UKs81QtBF",
        "outputId": "4501338b-ea25-46b4-8674-14f5d5243341"
      },
      "execution_count": 10,
      "outputs": [
        {
          "output_type": "stream",
          "name": "stdout",
          "text": [
            "BEST MATES IN CLASS Ritika Kavya\n"
          ]
        }
      ]
    },
    {
      "cell_type": "markdown",
      "source": [
        "Area triangle"
      ],
      "metadata": {
        "id": "jxFsTcI2Rsvi"
      }
    },
    {
      "cell_type": "code",
      "source": [
        "a = 5\n",
        "b = 6\n",
        "c = 7\n",
        "\n",
        "s = (a+b+c)/2\n",
        "\n",
        "area = (s*(s-a)*(s-b)*(s-c)) ** 0.5\n",
        "\n",
        "print('The area of the triangle is %0.2f' %area)"
      ],
      "metadata": {
        "colab": {
          "base_uri": "https://localhost:8080/"
        },
        "id": "0wdeLGnYRW7e",
        "outputId": "a05515e3-023b-4681-e8b7-0bf0ceb28556"
      },
      "execution_count": 11,
      "outputs": [
        {
          "output_type": "stream",
          "name": "stdout",
          "text": [
            "The area of the triangle is 14.70\n"
          ]
        }
      ]
    },
    {
      "cell_type": "markdown",
      "source": [
        "Odd or Even "
      ],
      "metadata": {
        "id": "F0oo1jX4SjDQ"
      }
    },
    {
      "cell_type": "code",
      "source": [
        "num = int(input(\"Enter a number: \"))\n",
        "if (num % 2) == 0:\n",
        "   print(\"{0} is Even\".format(num))\n",
        "else:\n",
        "   print(\"{0} is Odd\".format(num))"
      ],
      "metadata": {
        "colab": {
          "base_uri": "https://localhost:8080/"
        },
        "id": "q2ARfITJS3nC",
        "outputId": "e0eb8222-e049-47b0-bdeb-4cc4edcb8393"
      },
      "execution_count": 12,
      "outputs": [
        {
          "output_type": "stream",
          "name": "stdout",
          "text": [
            "Enter a number: 3\n",
            "3 is Odd\n"
          ]
        }
      ]
    },
    {
      "cell_type": "markdown",
      "source": [
        "Largest of 3 numbers"
      ],
      "metadata": {
        "id": "0iTy-e3aTBXq"
      }
    },
    {
      "cell_type": "code",
      "source": [
        "num1 = 10\n",
        "num2 = 14\n",
        "num3 = 12\n",
        "\n",
        "if (num1 >= num2) and (num1 >= num3):\n",
        "   largest = num1\n",
        "elif (num2 >= num1) and (num2 >= num3):\n",
        "   largest = num2\n",
        "else:\n",
        "   largest = num3\n",
        "\n",
        "print(\"The largest number is\", largest)\n"
      ],
      "metadata": {
        "colab": {
          "base_uri": "https://localhost:8080/"
        },
        "id": "q27LYn2nTA-Y",
        "outputId": "872cfcf5-e1ce-4e0b-9ced-089100824d4f"
      },
      "execution_count": 13,
      "outputs": [
        {
          "output_type": "stream",
          "name": "stdout",
          "text": [
            "The largest number is 14\n"
          ]
        }
      ]
    },
    {
      "cell_type": "markdown",
      "source": [
        "Basic arithmetic operations "
      ],
      "metadata": {
        "id": "RNN0cSLIUULa"
      }
    },
    {
      "cell_type": "code",
      "source": [
        "345627648+15342635748\n"
      ],
      "metadata": {
        "colab": {
          "base_uri": "https://localhost:8080/"
        },
        "id": "JKF2JIaAUbKH",
        "outputId": "4df23c71-aa07-48b5-ed09-473c54b1011b"
      },
      "execution_count": 20,
      "outputs": [
        {
          "output_type": "execute_result",
          "data": {
            "text/plain": [
              "15688263396"
            ]
          },
          "metadata": {},
          "execution_count": 20
        }
      ]
    },
    {
      "cell_type": "code",
      "source": [
        "3.8791+23467.98\n"
      ],
      "metadata": {
        "colab": {
          "base_uri": "https://localhost:8080/"
        },
        "id": "KCIiEC5gUvu3",
        "outputId": "c59b95af-28ad-4cc2-e67c-d6e54e136391"
      },
      "execution_count": 21,
      "outputs": [
        {
          "output_type": "execute_result",
          "data": {
            "text/plain": [
              "23471.859099999998"
            ]
          },
          "metadata": {},
          "execution_count": 21
        }
      ]
    },
    {
      "cell_type": "code",
      "source": [
        "23%243"
      ],
      "metadata": {
        "colab": {
          "base_uri": "https://localhost:8080/"
        },
        "id": "e3AWgIbnUzw9",
        "outputId": "cb53914a-a558-4fa8-f193-d2d0099035c8"
      },
      "execution_count": 22,
      "outputs": [
        {
          "output_type": "execute_result",
          "data": {
            "text/plain": [
              "23"
            ]
          },
          "metadata": {},
          "execution_count": 22
        }
      ]
    },
    {
      "cell_type": "code",
      "source": [
        "56/34"
      ],
      "metadata": {
        "colab": {
          "base_uri": "https://localhost:8080/"
        },
        "id": "0Uk_wYLmU4kE",
        "outputId": "974caed2-9f09-43b5-d346-4083bf11e0d2"
      },
      "execution_count": 23,
      "outputs": [
        {
          "output_type": "execute_result",
          "data": {
            "text/plain": [
              "1.6470588235294117"
            ]
          },
          "metadata": {},
          "execution_count": 23
        }
      ]
    },
    {
      "cell_type": "code",
      "source": [
        "from math import sin, cos, tan, pi\n",
        "\n",
        "print(sin(pi/2))\n",
        "\n",
        "print(cos(pi/6))\n",
        "print(pi)\n",
        "print(tan(pi/2))\n",
        "\n"
      ],
      "metadata": {
        "colab": {
          "base_uri": "https://localhost:8080/"
        },
        "id": "fVaqjq2dU-xI",
        "outputId": "542df20a-9d75-4bd0-a819-b951144a6b8d"
      },
      "execution_count": 30,
      "outputs": [
        {
          "output_type": "stream",
          "name": "stdout",
          "text": [
            "1.0\n",
            "0.8660254037844387\n",
            "3.141592653589793\n",
            "1.633123935319537e+16\n"
          ]
        }
      ]
    },
    {
      "cell_type": "code",
      "source": [
        "from math import sin, cos, tan, pi\n",
        "\n",
        "sum = (sin(pi/2))**2 + (cos(pi/2))**2\n",
        "\n",
        "print(sum)"
      ],
      "metadata": {
        "colab": {
          "base_uri": "https://localhost:8080/"
        },
        "id": "R-6pMwaZWVqd",
        "outputId": "1291becb-3351-4e57-9936-1d0280cc4ee1"
      },
      "execution_count": 33,
      "outputs": [
        {
          "output_type": "stream",
          "name": "stdout",
          "text": [
            "1.0\n"
          ]
        }
      ]
    },
    {
      "cell_type": "code",
      "source": [
        "from math import sin, cos, tan, pi \n",
        "print(input(\"Enter a trignometric expression:\"))\n",
        "  \n",
        "\n",
        "\n"
      ],
      "metadata": {
        "colab": {
          "base_uri": "https://localhost:8080/"
        },
        "id": "tIuYzn1lXDOb",
        "outputId": "f1279100-7e4e-497f-87d0-eef62ea43091"
      },
      "execution_count": 36,
      "outputs": [
        {
          "output_type": "stream",
          "name": "stdout",
          "text": [
            "Enter a trignometric expression:sin(Pi)\n",
            "sin(Pi)\n"
          ]
        }
      ]
    },
    {
      "cell_type": "markdown",
      "source": [
        "# ***INPUTS***"
      ],
      "metadata": {
        "id": "fxbE40iuX_Vp"
      }
    },
    {
      "cell_type": "code",
      "source": [
        "\n",
        "age =int(input(\"Enter age\"))  \n",
        "print(age)"
      ],
      "metadata": {
        "colab": {
          "base_uri": "https://localhost:8080/"
        },
        "id": "5j9yGHKMYCYp",
        "outputId": "ecfb3ba8-eed6-4ccf-e710-ca1d6d4871b2"
      },
      "execution_count": 49,
      "outputs": [
        {
          "output_type": "stream",
          "name": "stdout",
          "text": [
            "Enter age23\n",
            "23\n"
          ]
        }
      ]
    }
  ]
}